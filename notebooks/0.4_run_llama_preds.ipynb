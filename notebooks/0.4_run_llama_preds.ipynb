{
 "cells": [
  {
   "cell_type": "code",
   "id": "initial_id",
   "metadata": {
    "collapsed": true,
    "ExecuteTime": {
     "end_time": "2024-04-15T15:47:45.697759Z",
     "start_time": "2024-04-15T15:47:45.637784Z"
    }
   },
   "source": [
    "import pandas as pd\n",
    "import random\n",
    "import sys\n",
    "import numpy as np\n",
    "\n",
    "sys.path.append(\"../scripts\")\n",
    "from scripts.prompt_gen import generate_prompt\n",
    "from scripts.translate_summary_json import translate_summary\n",
    "\n",
    "from qa_config import llama_system_qa_prompt\n",
    "%load_ext autoreload\n",
    "%autoreload 2\n"
   ],
   "outputs": [
    {
     "name": "stdout",
     "output_type": "stream",
     "text": [
      "The autoreload extension is already loaded. To reload it, use:\n",
      "  %reload_ext autoreload\n"
     ]
    }
   ],
   "execution_count": 9
  },
  {
   "metadata": {
    "ExecuteTime": {
     "end_time": "2024-04-15T15:47:48.621064Z",
     "start_time": "2024-04-15T15:47:48.565294Z"
    }
   },
   "cell_type": "code",
   "source": [
    "from langchain_community.llms import Ollama\n",
    "from langchain_core.prompts import ChatPromptTemplate\n",
    "from langchain_core.output_parsers import StrOutputParser\n",
    "import streamlit as st\n",
    "\n",
    "import os\n",
    "from dotenv import load_dotenv\n",
    "load_dotenv()\n",
    "\n",
    "os.environ['LANGCHAIN_API_KEY'] = os.getenv(\"LANGCHAIN_API_KEY\")\n",
    "os.environ[\"LANGCHAIN_TRACING_V2\"] = 'true'\n"
   ],
   "id": "dd23fd93518923b1",
   "outputs": [],
   "execution_count": 10
  },
  {
   "metadata": {
    "ExecuteTime": {
     "end_time": "2024-04-15T15:47:48.963456Z",
     "start_time": "2024-04-15T15:47:48.887845Z"
    }
   },
   "cell_type": "code",
   "source": [
    "df = pd.read_csv(\"../outputs/eval.csv\")\n",
    "df.head()"
   ],
   "id": "bb2fbd0c350ef36a",
   "outputs": [
    {
     "data": {
      "text/plain": [
       "      idx                                          full_note  \\\n",
       "0  162935  0    A 42-year-old, G3P2 L0 presented to the o...   \n",
       "1   83436  0    A 73-year-old male patient, who we knew t...   \n",
       "2   87502  0    A 3 years old boy presented with history ...   \n",
       "3   55287  0    A 13-year-old girl complained of a three-...   \n",
       "4  113035  0    Case 1 was a 63-year-old man who presente...   \n",
       "\n",
       "                                             summary  \\\n",
       "0  {'visit motivation': 'Routine antenatal check-...   \n",
       "1  {'visit motivation': 'uT3', 'admission': [{'re...   \n",
       "2  {'visit motivation': 'History of recurrent fev...   \n",
       "3  {'visit motivation': 'Complained of lower back...   \n",
       "4  {'visit motivation': 'Productive cough, fever,...   \n",
       "\n",
       "                                           questions                section_1  \\\n",
       "0  [['Details (Optional) : Are there any specific...                Surgeries   \n",
       "1  [['Severity (Optional) : Does the note indicat...          Diagnosis Tests   \n",
       "2  [['Details (Optional) : Are there any addition...                 Symptoms   \n",
       "3  [['Drug Usage : Does the note mention any drug...  Patient Medical History   \n",
       "4  [['Name : What medication or treatment was adm...               Treatments   \n",
       "\n",
       "                 section_2                     section_1_ground_truth_summary  \\\n",
       "0  Patient Medical History  \\nSurgeries:A Termination of pregnancy surgery...   \n",
       "1                Admission  \\nDiagnosis Tests:The Fiberoptic bronchoscopy ...   \n",
       "2  Patient Medical History  \\nSymptoms:The patient reports Recurrent fever...   \n",
       "3     Medical Examinations  \\nMedical History:The patient's physiological ...   \n",
       "4                 Symptoms  \\nTreatments:The patient received Prednisone t...   \n",
       "\n",
       "                      section_2_ground_truth_summary  \\\n",
       "0  \\nMedical History:The patient's drug usage is ...   \n",
       "1  \\nAdmission:The patient was admitted for Open ...   \n",
       "2  \\nMedical History:The patient's physiological ...   \n",
       "3  \\nMedical Examinations:Physical Examination ex...   \n",
       "4  \\nSymptoms:The patient reports Productive coug...   \n",
       "\n",
       "                                ground_truth_summary  \\\n",
       "0  Visit Motivation: The patient reported Routine...   \n",
       "1  Visit Motivation: The patient reported uT3\\nAd...   \n",
       "2  Visit Motivation: The patient reported History...   \n",
       "3  Visit Motivation: The patient reported Complai...   \n",
       "4  Visit Motivation: The patient reported Product...   \n",
       "\n",
       "                                              prompt  \n",
       "0  [Start Full note:]\\nA 42-year-old, G3P2 L0 pre...  \n",
       "1  [Start Full note:]\\nA 73-year-old male patient...  \n",
       "2  [Start Full note:]\\nA 3 years old boy presente...  \n",
       "3  [Start Full note:]\\nA 13-year-old girl complai...  \n",
       "4  [Start Full note:]\\nCase 1 was a 63-year-old m...  "
      ],
      "text/html": [
       "<div>\n",
       "<style scoped>\n",
       "    .dataframe tbody tr th:only-of-type {\n",
       "        vertical-align: middle;\n",
       "    }\n",
       "\n",
       "    .dataframe tbody tr th {\n",
       "        vertical-align: top;\n",
       "    }\n",
       "\n",
       "    .dataframe thead th {\n",
       "        text-align: right;\n",
       "    }\n",
       "</style>\n",
       "<table border=\"1\" class=\"dataframe\">\n",
       "  <thead>\n",
       "    <tr style=\"text-align: right;\">\n",
       "      <th></th>\n",
       "      <th>idx</th>\n",
       "      <th>full_note</th>\n",
       "      <th>summary</th>\n",
       "      <th>questions</th>\n",
       "      <th>section_1</th>\n",
       "      <th>section_2</th>\n",
       "      <th>section_1_ground_truth_summary</th>\n",
       "      <th>section_2_ground_truth_summary</th>\n",
       "      <th>ground_truth_summary</th>\n",
       "      <th>prompt</th>\n",
       "    </tr>\n",
       "  </thead>\n",
       "  <tbody>\n",
       "    <tr>\n",
       "      <th>0</th>\n",
       "      <td>162935</td>\n",
       "      <td>0    A 42-year-old, G3P2 L0 presented to the o...</td>\n",
       "      <td>{'visit motivation': 'Routine antenatal check-...</td>\n",
       "      <td>[['Details (Optional) : Are there any specific...</td>\n",
       "      <td>Surgeries</td>\n",
       "      <td>Patient Medical History</td>\n",
       "      <td>\\nSurgeries:A Termination of pregnancy surgery...</td>\n",
       "      <td>\\nMedical History:The patient's drug usage is ...</td>\n",
       "      <td>Visit Motivation: The patient reported Routine...</td>\n",
       "      <td>[Start Full note:]\\nA 42-year-old, G3P2 L0 pre...</td>\n",
       "    </tr>\n",
       "    <tr>\n",
       "      <th>1</th>\n",
       "      <td>83436</td>\n",
       "      <td>0    A 73-year-old male patient, who we knew t...</td>\n",
       "      <td>{'visit motivation': 'uT3', 'admission': [{'re...</td>\n",
       "      <td>[['Severity (Optional) : Does the note indicat...</td>\n",
       "      <td>Diagnosis Tests</td>\n",
       "      <td>Admission</td>\n",
       "      <td>\\nDiagnosis Tests:The Fiberoptic bronchoscopy ...</td>\n",
       "      <td>\\nAdmission:The patient was admitted for Open ...</td>\n",
       "      <td>Visit Motivation: The patient reported uT3\\nAd...</td>\n",
       "      <td>[Start Full note:]\\nA 73-year-old male patient...</td>\n",
       "    </tr>\n",
       "    <tr>\n",
       "      <th>2</th>\n",
       "      <td>87502</td>\n",
       "      <td>0    A 3 years old boy presented with history ...</td>\n",
       "      <td>{'visit motivation': 'History of recurrent fev...</td>\n",
       "      <td>[['Details (Optional) : Are there any addition...</td>\n",
       "      <td>Symptoms</td>\n",
       "      <td>Patient Medical History</td>\n",
       "      <td>\\nSymptoms:The patient reports Recurrent fever...</td>\n",
       "      <td>\\nMedical History:The patient's physiological ...</td>\n",
       "      <td>Visit Motivation: The patient reported History...</td>\n",
       "      <td>[Start Full note:]\\nA 3 years old boy presente...</td>\n",
       "    </tr>\n",
       "    <tr>\n",
       "      <th>3</th>\n",
       "      <td>55287</td>\n",
       "      <td>0    A 13-year-old girl complained of a three-...</td>\n",
       "      <td>{'visit motivation': 'Complained of lower back...</td>\n",
       "      <td>[['Drug Usage : Does the note mention any drug...</td>\n",
       "      <td>Patient Medical History</td>\n",
       "      <td>Medical Examinations</td>\n",
       "      <td>\\nMedical History:The patient's physiological ...</td>\n",
       "      <td>\\nMedical Examinations:Physical Examination ex...</td>\n",
       "      <td>Visit Motivation: The patient reported Complai...</td>\n",
       "      <td>[Start Full note:]\\nA 13-year-old girl complai...</td>\n",
       "    </tr>\n",
       "    <tr>\n",
       "      <th>4</th>\n",
       "      <td>113035</td>\n",
       "      <td>0    Case 1 was a 63-year-old man who presente...</td>\n",
       "      <td>{'visit motivation': 'Productive cough, fever,...</td>\n",
       "      <td>[['Name : What medication or treatment was adm...</td>\n",
       "      <td>Treatments</td>\n",
       "      <td>Symptoms</td>\n",
       "      <td>\\nTreatments:The patient received Prednisone t...</td>\n",
       "      <td>\\nSymptoms:The patient reports Productive coug...</td>\n",
       "      <td>Visit Motivation: The patient reported Product...</td>\n",
       "      <td>[Start Full note:]\\nCase 1 was a 63-year-old m...</td>\n",
       "    </tr>\n",
       "  </tbody>\n",
       "</table>\n",
       "</div>"
      ]
     },
     "execution_count": 11,
     "metadata": {},
     "output_type": "execute_result"
    }
   ],
   "execution_count": 11
  },
  {
   "metadata": {
    "ExecuteTime": {
     "end_time": "2024-04-15T15:47:49.616791Z",
     "start_time": "2024-04-15T15:47:49.544329Z"
    }
   },
   "cell_type": "code",
   "source": [
    "prompt = ChatPromptTemplate.from_messages(\n",
    "    [\n",
    "        (\"system\", llama_system_qa_prompt),\n",
    "        (\"user\", \"{full_note_and_questions} [/INST]\"),\n",
    "    ]\n",
    ")\n",
    "\n",
    "llm = Ollama(model=\"llama2\", temperature=0)\n",
    "output_parser = StrOutputParser()"
   ],
   "id": "b3c0d386922307ea",
   "outputs": [],
   "execution_count": 12
  },
  {
   "metadata": {
    "ExecuteTime": {
     "end_time": "2024-04-15T15:48:00.359099Z",
     "start_time": "2024-04-15T15:48:00.309799Z"
    }
   },
   "cell_type": "code",
   "source": "chain = prompt | llm | output_parser",
   "id": "37334f4f357a6ba2",
   "outputs": [],
   "execution_count": 13
  },
  {
   "metadata": {},
   "cell_type": "code",
   "outputs": [],
   "execution_count": null,
   "source": [
    "for row in df.to_dict(\"records\"):\n",
    "    full_note_and_question = row[\"prompt\"]\n",
    "    response = chain.invoke({\"full_note_and_questions\": full_note_and_question})         \n",
    "    break"
   ],
   "id": "a16ab50801cbea30"
  }
 ],
 "metadata": {
  "kernelspec": {
   "display_name": "Python 3",
   "language": "python",
   "name": "python3"
  },
  "language_info": {
   "codemirror_mode": {
    "name": "ipython",
    "version": 2
   },
   "file_extension": ".py",
   "mimetype": "text/x-python",
   "name": "python",
   "nbconvert_exporter": "python",
   "pygments_lexer": "ipython2",
   "version": "2.7.6"
  }
 },
 "nbformat": 4,
 "nbformat_minor": 5
}
