{
 "cells": [
  {
   "cell_type": "code",
   "id": "initial_id",
   "metadata": {
    "collapsed": true,
    "ExecuteTime": {
     "end_time": "2024-04-14T15:18:31.842170Z",
     "start_time": "2024-04-14T15:18:30.457427Z"
    }
   },
   "source": [
    "import pandas as pd\n",
    "import sys\n",
    "\n",
    "sys.path.append(\"../scripts\")\n",
    "from scripts.translate_summary_json import *\n",
    "\n",
    "%load_ext autoreload\n",
    "%autoreload 2"
   ],
   "outputs": [],
   "execution_count": 1
  },
  {
   "metadata": {
    "ExecuteTime": {
     "end_time": "2024-04-14T15:18:35.183785Z",
     "start_time": "2024-04-14T15:18:31.842170Z"
    }
   },
   "cell_type": "code",
   "source": [
    "df = pd.read_csv(\"../datasets/augmented_clinical_notes/cleaned_df.csv\")\n",
    "df.head(5)"
   ],
   "id": "3d5de9c4cd4ebea2",
   "outputs": [
    {
     "data": {
      "text/plain": [
       "      idx                                               note  \\\n",
       "0  155216  A a sixteen year-old girl, presented to our Ou...   \n",
       "1  133948  A 36-year old female patient visited our hospi...   \n",
       "2   80176  A 49-year-old male presented with a complaint ...   \n",
       "3   72232  A 47-year-old male patient was referred to the...   \n",
       "4   31864  A 24-year-old Yemeni female presented to the e...   \n",
       "\n",
       "                                           full_note  \\\n",
       "0  A a sixteen year-old girl, presented to our Ou...   \n",
       "1  A 36-year old female patient visited our hospi...   \n",
       "2  A 49-year-old male presented with a complaint ...   \n",
       "3  A 47-year-old male patient was referred to the...   \n",
       "4  A 24-year-old Yemeni female presented to the e...   \n",
       "\n",
       "                                        conversation  \\\n",
       "0  Doctor: Good morning, what brings you to the O...   \n",
       "1  Doctor: Hello, what brings you to the hospital...   \n",
       "2  Doctor: Good morning, Mr. [Patient's Name]. I'...   \n",
       "3  Doctor: Good morning, how are you feeling toda...   \n",
       "4  Doctor: Good morning, how are you feeling toda...   \n",
       "\n",
       "                                        summary_eval  \n",
       "0  {'visit motivation': 'Discomfort in the neck a...  \n",
       "1  {'visit motivation': 'Pain and restricted rang...  \n",
       "2  {'visit motivation': 'Pain in the left proxima...  \n",
       "3  {'visit motivation': 'Recurrent attacks of pai...  \n",
       "4  {'visit motivation': 'Inability to walk and a ...  "
      ],
      "text/html": [
       "<div>\n",
       "<style scoped>\n",
       "    .dataframe tbody tr th:only-of-type {\n",
       "        vertical-align: middle;\n",
       "    }\n",
       "\n",
       "    .dataframe tbody tr th {\n",
       "        vertical-align: top;\n",
       "    }\n",
       "\n",
       "    .dataframe thead th {\n",
       "        text-align: right;\n",
       "    }\n",
       "</style>\n",
       "<table border=\"1\" class=\"dataframe\">\n",
       "  <thead>\n",
       "    <tr style=\"text-align: right;\">\n",
       "      <th></th>\n",
       "      <th>idx</th>\n",
       "      <th>note</th>\n",
       "      <th>full_note</th>\n",
       "      <th>conversation</th>\n",
       "      <th>summary_eval</th>\n",
       "    </tr>\n",
       "  </thead>\n",
       "  <tbody>\n",
       "    <tr>\n",
       "      <th>0</th>\n",
       "      <td>155216</td>\n",
       "      <td>A a sixteen year-old girl, presented to our Ou...</td>\n",
       "      <td>A a sixteen year-old girl, presented to our Ou...</td>\n",
       "      <td>Doctor: Good morning, what brings you to the O...</td>\n",
       "      <td>{'visit motivation': 'Discomfort in the neck a...</td>\n",
       "    </tr>\n",
       "    <tr>\n",
       "      <th>1</th>\n",
       "      <td>133948</td>\n",
       "      <td>A 36-year old female patient visited our hospi...</td>\n",
       "      <td>A 36-year old female patient visited our hospi...</td>\n",
       "      <td>Doctor: Hello, what brings you to the hospital...</td>\n",
       "      <td>{'visit motivation': 'Pain and restricted rang...</td>\n",
       "    </tr>\n",
       "    <tr>\n",
       "      <th>2</th>\n",
       "      <td>80176</td>\n",
       "      <td>A 49-year-old male presented with a complaint ...</td>\n",
       "      <td>A 49-year-old male presented with a complaint ...</td>\n",
       "      <td>Doctor: Good morning, Mr. [Patient's Name]. I'...</td>\n",
       "      <td>{'visit motivation': 'Pain in the left proxima...</td>\n",
       "    </tr>\n",
       "    <tr>\n",
       "      <th>3</th>\n",
       "      <td>72232</td>\n",
       "      <td>A 47-year-old male patient was referred to the...</td>\n",
       "      <td>A 47-year-old male patient was referred to the...</td>\n",
       "      <td>Doctor: Good morning, how are you feeling toda...</td>\n",
       "      <td>{'visit motivation': 'Recurrent attacks of pai...</td>\n",
       "    </tr>\n",
       "    <tr>\n",
       "      <th>4</th>\n",
       "      <td>31864</td>\n",
       "      <td>A 24-year-old Yemeni female presented to the e...</td>\n",
       "      <td>A 24-year-old Yemeni female presented to the e...</td>\n",
       "      <td>Doctor: Good morning, how are you feeling toda...</td>\n",
       "      <td>{'visit motivation': 'Inability to walk and a ...</td>\n",
       "    </tr>\n",
       "  </tbody>\n",
       "</table>\n",
       "</div>"
      ]
     },
     "execution_count": 2,
     "metadata": {},
     "output_type": "execute_result"
    }
   ],
   "execution_count": 2
  },
  {
   "metadata": {
    "ExecuteTime": {
     "end_time": "2024-04-14T15:18:35.227085Z",
     "start_time": "2024-04-14T15:18:35.183785Z"
    }
   },
   "cell_type": "code",
   "source": "eval(df.iloc[78][\"summary_eval\"])",
   "id": "6bbfb9250b2292d5",
   "outputs": [
    {
     "data": {
      "text/plain": [
       "{'visit motivation': 'Large, painful swelling in the popliteal fossa in his left leg',\n",
       " 'admission': [{'reason': 'Large, painful swelling in the popliteal fossa',\n",
       "   'date': 'None',\n",
       "   'duration': 'None',\n",
       "   'care center details': 'None'}],\n",
       " 'patient information': {'age': '45',\n",
       "  'sex': 'Male',\n",
       "  'ethnicity': 'None',\n",
       "  'weight': 'None',\n",
       "  'height': 'None',\n",
       "  'family medical history': 'None',\n",
       "  'recent travels': 'None',\n",
       "  'socio economic context': 'None',\n",
       "  'occupation': 'None'},\n",
       " 'patient medical history': {'physiological context': 'Puncture wound by a nail 11 years ago, followed by a slowly growing mass in the popliteal fossa',\n",
       "  'psychological context': 'None',\n",
       "  'vaccination history': 'None',\n",
       "  'allergies': 'None',\n",
       "  'exercise frequency': 'None',\n",
       "  'nutrition': 'None',\n",
       "  'sexual history': 'None',\n",
       "  'alcohol consumption': 'None',\n",
       "  'drug usage': 'None',\n",
       "  'smoking status': 'None'},\n",
       " 'surgeries': [{'reason': 'Popliteal pseudoaneurysm',\n",
       "   'Type': 'Excision of the pseudoaneurysm and primary repair surgery to popliteal artery',\n",
       "   'time': 'None',\n",
       "   'outcome': 'Popliteal artery was patent according to Doppler USG post-surgery; foot drop after the operation which resolved spontaneously after a year',\n",
       "   'details': 'Operation performed by cardiovascular surgeons after angiography'}],\n",
       " 'symptoms': [{'name of symptom': 'Swelling',\n",
       "   'intensity of symptom': 'Large',\n",
       "   'location': 'Popliteal fossa in the left leg',\n",
       "   'time': '11 years after initial puncture wound',\n",
       "   'temporalisation': 'Slowly growing',\n",
       "   'behaviours affecting the symptom': 'None',\n",
       "   'details': 'Painful swelling, recurred after initial surgery'},\n",
       "  {'name of symptom': 'Foot drop',\n",
       "   'intensity of symptom': 'None',\n",
       "   'location': 'Foot',\n",
       "   'time': 'After the operation',\n",
       "   'temporalisation': 'Resolved spontaneously after a year',\n",
       "   'behaviours affecting the symptom': 'None',\n",
       "   'details': 'None'}],\n",
       " 'medical examinations': [{'name': 'Physical examination',\n",
       "   'result': 'Large mass (28 × 10 cm) in the popliteal fossa with old surgical scars, soft, fluctuant, and painless in palpation',\n",
       "   'details': 'None'},\n",
       "  {'name': 'Neurological examination',\n",
       "   'result': 'Normal',\n",
       "   'details': 'Of the lower leg'},\n",
       "  {'name': 'Blood tests', 'result': 'Normal', 'details': 'None'}],\n",
       " 'diagnosis tests': [{'test': 'Doppler ultrasonography',\n",
       "   'severity': 'None',\n",
       "   'result': 'Monophasic flow on the popliteal artery 5 years after the operation',\n",
       "   'condition': 'Popliteal artery obstruction',\n",
       "   'time': '5 years after the operation',\n",
       "   'details': 'None'},\n",
       "  {'test': 'Arteriography',\n",
       "   'severity': 'None',\n",
       "   'result': 'Popliteal artery occluded in the proximal section but filled in the distal section with collateral vessels',\n",
       "   'condition': 'Popliteal artery occlusion',\n",
       "   'time': 'None',\n",
       "   'details': 'None'},\n",
       "  {'test': 'MRI scan',\n",
       "   'severity': 'None',\n",
       "   'result': 'An enormous soft tissue mass',\n",
       "   'condition': 'None',\n",
       "   'time': 'None',\n",
       "   'details': 'Revealed by MRI scan'}],\n",
       " 'treatments': [{'name': 'None',\n",
       "   'related condition': 'None',\n",
       "   'dosage': 'None',\n",
       "   'time': 'None',\n",
       "   'frequency': 'None',\n",
       "   'duration': 'None',\n",
       "   'reason for taking': 'None',\n",
       "   'reaction to treatment': 'None',\n",
       "   'details': \"Observation without any interference was suggested according to the patient's momentary condition\"}],\n",
       " 'discharge': {'reason': 'None',\n",
       "  'referral': 'None',\n",
       "  'follow up': 'None',\n",
       "  'discharge summary': 'None'}}"
      ]
     },
     "execution_count": 3,
     "metadata": {},
     "output_type": "execute_result"
    }
   ],
   "execution_count": 3
  },
  {
   "metadata": {
    "ExecuteTime": {
     "end_time": "2024-04-14T04:11:12.212484Z",
     "start_time": "2024-04-14T04:11:12.165991Z"
    }
   },
   "cell_type": "code",
   "source": "df.iloc[78][\"full_note\"]",
   "id": "2722ddb311cc2f14",
   "outputs": [
    {
     "data": {
      "text/plain": [
       "\"A 45-year-old man was presented in our department with a large, painful swelling in the popliteal fossa in his left leg. There has been a puncture wound by a nail 11 years ago and he resorted to another hospital. At that institution, medical treatment was given in accordance with the patient's momentary condition. Nevertheless, a slowly growing mass occurred in his popliteal fossa in a year following being subjected to the puncture wound. He resorted to cardiovascular surgery department in another hospital and Doppler ultrasonography together with arteriography was taken. A popliteal pseudoaneurysm was detected in the distal part of the popliteal artery near the bifurcation to the anterior and posterior tibial arteries and was about 4 cm in diameter (). The patient was taken into operation by cardiovascular surgeons after the angiography. He had an excision of the pseudoaneurysm and primary repair surgery to popliteal artery. After surgery, the popliteal artery was patent according to Doppler USG. He had a foot drop after the operation which resolves spontaneously after a year. At early follow-up, a gradually expanding mass recurred in the popliteal fossa. He went to cardiovascular surgery with this complain, but observation was recommended. Monophasic flow was seen on the popliteal artery according to Doppler ultrasonography which was taken 5 years after the operation. He resorted to some medical centers for his swelling to be treated during 10 years after bypass surgery, but observation without any interference was suggested according to the patient's momentary condition. He applied to our department with a huge popliteal mass associated with obstructed popliteal artery.\\\\nOn the physical examination of the patient, there was a large mass (28 × 10 cm) in the popliteal fossa with old surgical scars. The lesion was soft, fluctuant, and painless in palpation (). The neurological examination of the lower leg was normal. The blood tests were normal. In the arteriography images, the popliteal artery occluded in the proximal section but was filled in the distal section with collateral vessels (). The MRI scan revealed an enormous soft tissue mass of 115 × 107 × 196 cm in size between the medial and lateral heads of the gastrocnemius with the features compatible with hematoma with lobulation ().\\\\nThe mass is excised from the adhered tibia protecting the nerve and the collateral vessels with hockey stick incision on the popliteal fossa on prone position (). There was about 1,5 L of chocolate-brown fluid evacuated from a well-defined wall and a multilocular cyst-like appearance was seen. The findings we gathered from the operation were compatible with a large fibrous cavity with villous formation containing a considerable quantity of altered blood clot (). A complete resection of the pseudocapsule was performed. The underlying fascia was extendedly sutured with the subcutaneous tissue, in order to avoid any dead space where new hematoma can develop. The liquid and soft tissue culture was sterile. The histopathological examination revealed abundant fibrous tissue with the features of hemorrhage. After one year from the surgical treatment, the patient has not shown any sign of recurrence ().\""
      ]
     },
     "execution_count": 26,
     "metadata": {},
     "output_type": "execute_result"
    }
   ],
   "execution_count": 26
  },
  {
   "metadata": {
    "ExecuteTime": {
     "end_time": "2024-04-13T15:16:21.672268Z",
     "start_time": "2024-04-13T15:16:21.628328Z"
    }
   },
   "cell_type": "code",
   "source": [
    "summary = df[[\"idx\",\"summary_eval\"]].loc[:5].to_dict(orient=\"records\")\n",
    "summary"
   ],
   "id": "17f899f41be37d7d",
   "outputs": [
    {
     "data": {
      "text/plain": [
       "[{'idx': 155216,\n",
       "  'summary_eval': \"{'visit motivation': 'Discomfort in the neck and lower back, restriction of body movements, inability to maintain an erect posture, and requiring assistance in standing and walking.', 'admission': [{'reason': 'None', 'date': 'None', 'duration': 'None', 'care center details': 'None'}], 'patient information': {'age': 'Sixteen years old', 'sex': 'Female', 'ethnicity': 'None', 'weight': 'None', 'height': 'None', 'family medical history': 'None', 'recent travels': 'None', 'socio economic context': 'None', 'occupation': 'None'}, 'patient medical history': {'physiological context': 'None', 'psychological context': 'Diagnosed with bipolar affective disorder at the age of eleven, first episode was that of mania.', 'vaccination history': 'None', 'allergies': 'None', 'exercise frequency': 'None', 'nutrition': 'None', 'sexual history': 'None', 'alcohol consumption': 'None', 'drug usage': 'None', 'smoking status': 'None'}, 'surgeries': [{'reason': 'None', 'Type': 'None', 'time': 'None', 'outcome': 'None', 'details': 'None'}], 'symptoms': [{'name of symptom': 'Discomfort in the neck and lower back, restriction of body movements, inability to maintain an erect posture', 'intensity of symptom': 'None', 'location': 'Neck and lower back', 'time': 'Past four months', 'temporalisation': 'None', 'behaviours affecting the symptom': 'Standing up from a sitting position', 'details': 'Head turned to the right and upwards due to sustained contraction of neck muscles, sideways bending of the back in the lumbar region, limbs positioned to support body weight.'}], 'medical examinations': [{'name': 'None', 'result': 'None', 'details': 'None'}], 'diagnosis tests': [{'test': 'None', 'severity': 'None', 'result': 'None', 'condition': 'None', 'time': 'None', 'details': 'None'}], 'treatments': [{'name': 'Olanzapine tablets', 'related condition': 'Bipolar affective disorder', 'dosage': '5 mg per day', 'time': 'Past four months', 'frequency': 'Daily', 'duration': 'None', 'reason for taking': 'Control of exacerbated mental illness', 'reaction to treatment': 'Pain and discomfort in neck, sustained and abnormal contraction of neck muscles, requiring assistance in daily chores', 'details': 'Previously managed with olanzapine tablets in 2.5–10 mg doses per day at different times over the past seven years.'}, {'name': 'Trihexyphenidyl', 'related condition': 'Rigidity in upper limbs', 'dosage': '4 mg per day', 'time': 'Brief period of around three weeks', 'frequency': 'Daily', 'duration': 'None', 'reason for taking': 'Rigidity in upper limbs', 'reaction to treatment': 'Good response', 'details': 'None'}], 'discharge': {'reason': 'None', 'referral': 'None', 'follow up': 'None', 'discharge summary': 'None'}}\"},\n",
       " {'idx': 133948,\n",
       "  'summary_eval': \"{'visit motivation': 'Pain and restricted range of motion in the left hip joint', 'admission': [{'reason': 'Idiopathic osteonecrosis of the femoral head', 'date': 'None', 'duration': 'Three weeks', 'care center details': 'None'}, {'reason': 'Pain and limited ROM in the contralateral hip joint and gait disturbance', 'date': 'One year after the initial surgery', 'duration': 'None', 'care center details': 'None'}], 'patient information': {'age': '36 years old', 'sex': 'Female', 'ethnicity': 'None', 'weight': '7 kg heavier than at the time of the first procedure', 'height': 'None', 'family medical history': 'None', 'recent travels': 'None', 'socio economic context': 'None', 'occupation': 'None'}, 'patient medical history': {'physiological context': 'None', 'psychological context': 'Intensifying feelings of helplessness', 'vaccination history': 'None', 'allergies': 'None', 'exercise frequency': 'None', 'nutrition': 'None', 'sexual history': 'None', 'alcohol consumption': 'None', 'drug usage': 'None', 'smoking status': 'None'}, 'surgeries': [{'reason': 'Idiopathic osteonecrosis of the femoral head', 'Type': 'Total Hip Arthroplasty (THA)', 'time': 'After diagnosis', 'outcome': 'Discharged in good condition without specific complications', 'details': 'First THA on the left hip'}, {'reason': 'Pain and limited ROM in the contralateral hip joint', 'Type': 'Total Hip Arthroplasty (THA)', 'time': 'One year after the first THA', 'outcome': 'Discharged in good condition without specific complications', 'details': 'Second THA on the contralateral hip'}], 'symptoms': [{'name of symptom': 'Pain', 'intensity of symptom': 'Severe', 'location': 'Left hip joint', 'time': 'Persisting for two months', 'temporalisation': 'Increased over the following three weeks', 'behaviours affecting the symptom': 'Aggravated by hip joint flexion or rotation', 'details': 'Also complained of pain and limited ROM in the contralateral hip joint one year after initial surgery'}, {'name of symptom': 'Restricted range of motion', 'intensity of symptom': 'None', 'location': 'Left hip joint', 'time': 'Persisting for two months', 'temporalisation': 'None', 'behaviours affecting the symptom': 'None', 'details': 'None'}, {'name of symptom': 'Gait disturbance', 'intensity of symptom': 'Severe', 'location': 'None', 'time': 'None', 'temporalisation': 'None', 'behaviours affecting the symptom': 'Secondary to hip pain', 'details': 'Continued for two months and increased over the following three weeks'}, {'name of symptom': 'Moderate moon face', 'intensity of symptom': 'Moderate', 'location': 'Face', 'time': 'At the time of the second surgery', 'temporalisation': 'None', 'behaviours affecting the symptom': 'None', 'details': 'Initially overlooked as weight gain'}, {'name of symptom': 'Central obesity', 'intensity of symptom': 'None', 'location': 'Central body', 'time': 'Aggravated over a three-month period of outpatient follow-up after the second surgery', 'temporalisation': 'None', 'behaviours affecting the symptom': 'None', 'details': 'None'}, {'name of symptom': 'Muscle mass reduction', 'intensity of symptom': 'None', 'location': 'Both the upper and lower limbs', 'time': 'Aggravated over a three-month period of outpatient follow-up after the second surgery', 'temporalisation': 'None', 'behaviours affecting the symptom': 'None', 'details': 'None'}], 'medical examinations': [{'name': 'Physical examination', 'result': 'Severe gait disturbance secondary to hip pain', 'details': 'Aggravated by hip joint flexion or rotation'}, {'name': 'Anteroposterior view of the left hip', 'result': 'Sclerosis and collapse of the femoral head and dysplasia of the hip', 'details': 'None'}], 'diagnosis tests': [{'test': 'Magnetic resonance imaging (MRI) scan', 'severity': 'None', 'result': 'Increased amount of joint fluid and bone marrow edema in the left hip, and femoral head necrosis on the contralateral side', 'condition': 'Idiopathic osteonecrosis of the femoral head', 'time': 'None', 'details': 'Patient did not complain of any pain on the contralateral side at the time of the first MRI'}, {'test': 'Repeat MRI', 'severity': 'None', 'result': 'Similar findings to those noted previously in the left hip', 'condition': 'None', 'time': 'One year after the initial surgery and symptoms continued for two months and increased over the following three weeks', 'details': 'None'}], 'treatments': 'None', 'discharge': {'reason': 'Good condition post-surgery', 'referral': 'Referred to the Department of Cardiology due to a progressive worsening of central', 'follow up': 'Regular outpatient visits', 'discharge summary': 'Discharged in good condition after both surgeries without specific complications'}}\"},\n",
       " {'idx': 80176,\n",
       "  'summary_eval': \"{'visit motivation': 'Pain in the left proximal forearm after a fall', 'admission': [{'reason': 'None', 'date': 'None', 'duration': 'None', 'care center details': 'None'}], 'patient information': {'age': '49', 'sex': 'male', 'ethnicity': 'None', 'weight': 'None', 'height': 'None', 'family medical history': 'None', 'recent travels': 'None', 'socio economic context': 'None', 'occupation': 'None'}, 'patient medical history': {'physiological context': 'History of left elbow arthrodesis performed for posttraumatic arthritis at the age of 18', 'psychological context': 'None', 'vaccination history': 'None', 'allergies': 'None', 'exercise frequency': 'None', 'nutrition': 'None', 'sexual history': 'None', 'alcohol consumption': 'None', 'drug usage': 'None', 'smoking status': 'None'}, 'surgeries': [{'reason': 'Posttraumatic arthritis', 'Type': 'Left elbow arthrodesis', 'time': 'At the age of 18', 'outcome': 'None', 'details': 'Elbow was fused at 90 degrees'}, {'reason': 'Hypertrophic nonunion of ulnar shaft fracture and functional limitations of elbow arthrodesis', 'Type': 'Repair of nonunion and conversion of elbow arthrodesis to arthroplasty', 'time': 'Three months after the fall and subsequent conservative treatment period', 'outcome': 'None', 'details': 'The stem of the ulnar component would act as an intramedullary device'}], 'symptoms': [{'name of symptom': 'Pain', 'intensity of symptom': 'None', 'location': 'Left proximal forearm', 'time': 'After a fall', 'temporalisation': 'None', 'behaviours affecting the symptom': 'None', 'details': 'Patient was tender at the proximal ulna'}], 'medical examinations': [{'name': 'Physical examination', 'result': 'No active flexion or extension at elbow, 40 degrees of pronation, 60 degrees of supination, normal motor and sensory exam at the hand', 'details': 'Elbow was fused at 90 degrees'}], 'diagnosis tests': [{'test': 'Radiographs', 'severity': 'Minimally displaced', 'result': 'Proximal ulnar shaft fracture', 'condition': 'Proximal ulnar shaft fracture, hypertrophic nonunion', 'time': 'None', 'details': 'Elbow arthrodesis at 90 degrees with retained hardware was also noted'}], 'treatments': [{'name': 'Closed treatment in a cast', 'related condition': 'Proximal ulnar shaft fracture', 'dosage': 'None', 'time': 'Initially after the fall', 'frequency': 'None', 'duration': 'None', 'reason for taking': 'To treat the ulnar shaft fracture', 'reaction to treatment': 'Developed a hypertrophic nonunion', 'details': 'None'}, {'name': 'Conservative treatment', 'related condition': 'Ulna nonunion', 'dosage': 'None', 'time': 'Three months after the fall', 'frequency': 'None', 'duration': 'An additional three months', 'reason for taking': 'To treat the ulna nonunion', 'reaction to treatment': 'Worsening motion through the nonunion site', 'details': 'None'}], 'discharge': {'reason': 'None', 'referral': 'None', 'follow up': 'None', 'discharge summary': 'None'}}\"},\n",
       " {'idx': 72232,\n",
       "  'summary_eval': \"{'visit motivation': 'Recurrent attacks of pain in both knees over 1 year', 'admission': [{'reason': 'None', 'date': 'None', 'duration': 'None', 'care center details': 'Rheumatology clinic'}], 'patient information': {'age': '47', 'sex': 'Male', 'ethnicity': 'None', 'weight': 'None', 'height': 'None', 'family medical history': 'None', 'recent travels': 'None', 'socio economic context': 'None', 'occupation': 'None'}, 'patient medical history': {'physiological context': 'None', 'psychological context': 'None', 'vaccination history': 'None', 'allergies': 'None', 'exercise frequency': 'None', 'nutrition': 'None', 'sexual history': 'None', 'alcohol consumption': 'None', 'drug usage': 'None', 'smoking status': 'None'}, 'surgeries': [{'reason': 'None', 'Type': 'None', 'time': 'None', 'outcome': 'None', 'details': 'None'}], 'symptoms': [{'name of symptom': 'Pain', 'intensity of symptom': 'Severe', 'location': 'Medial aspect of the left knee, lateral aspect of the left knee, medial side of the right knee', 'time': 'Over 1 year', 'temporalisation': 'Recurrent attacks', 'behaviours affecting the symptom': 'Increased with weight-bearing physical activity', 'details': 'Prevented ambulation, no history of trauma, mild effusion, moderate limitation of range of motion, no erythema or increased warmth'}], 'medical examinations': [{'name': 'Examination', 'result': 'Severe tenderness over the medial side of the knee with mild effusion and moderate limitation of range of motion', 'details': 'No erythema or increased warmth of the knee'}], 'diagnosis tests': [{'test': 'MRI', 'severity': 'Moderate-sized', 'result': 'Focal area of marrow edema/contusion involving the medial femoral condyle, bone marrow edema involving the lateral femoral condyle, extensive marrow edema involving the medial femoral condyle', 'condition': 'Bone marrow edema', 'time': 'September 2016, three months later, April 2017, four months later', 'details': 'Involvement of medial femoral condyle in mid and anterior parts predominantly along the articular surface, complete resolution of the bone marrow edema of the medial femoral condyle, involvement of the medial tibial plateau medially and anteriorly, complete recovery of the medial tibial plateau bone marrow edema'}], 'treatments': [{'name': 'Diclofenac sodium', 'related condition': 'Bone marrow edema', 'dosage': '50 mg', 'time': 'September 2016', 'frequency': 'Twice daily', 'duration': 'None', 'reason for taking': 'To treat knee pain', 'reaction to treatment': 'Pain subsided and resolved', 'details': 'Advised to avoid prolonged weight-bearing activities'}, {'name': 'NSAIDs and physiotherapy', 'related condition': 'Bone marrow edema', 'dosage': 'None', 'time': 'Three months after September 2016', 'frequency': 'None', 'duration': 'None', 'reason for taking': 'Treatment for new onset of pain involving the lateral aspect of the left knee', 'reaction to treatment': 'None', 'details': 'Advised to use cane to minimize weight bearing on the diseased knee'}, {'name': 'Conservative treatment', 'related condition': 'Bone marrow edema', 'dosage': 'None', 'time': 'April 2017', 'frequency': 'None', 'duration': 'None', 'reason for taking': 'Treatment for gradual pain over the medial side of the right knee', 'reaction to treatment': 'None', 'details': 'None'}], 'discharge': {'reason': 'None', 'referral': 'None', 'follow up': 'None', 'discharge summary': 'None'}}\"},\n",
       " {'idx': 31864,\n",
       "  'summary_eval': \"{'visit motivation': 'Inability to walk and a long history of osteomalacia', 'admission': [{'reason': 'None', 'date': 'None', 'duration': 'None', 'care center details': 'Endocrinology clinic'}], 'patient information': {'age': '24 years', 'sex': 'Female', 'ethnicity': 'Yemeni', 'weight': '49 kg', 'height': '144 cm', 'family medical history': 'No family history of a similar condition', 'recent travels': 'None', 'socio economic context': 'Family was poor and never sought medical help for her condition', 'occupation': 'None'}, 'patient medical history': {'physiological context': 'Inability to walk since babyhood, did not walk till 2.5 years old, could walk but never run, difficulty walking and pain during pregnancy, developed a fracture of the pubic rami during vaginal delivery', 'psychological context': 'None', 'vaccination history': 'None', 'allergies': 'None', 'exercise frequency': 'None', 'nutrition': 'None', 'sexual history': 'Got married at the age of 15 and became pregnant soon after', 'alcohol consumption': 'None', 'drug usage': 'None', 'smoking status': 'None'}, 'surgeries': [{'reason': 'Contracted pelvis', 'Type': 'Cesarean section was planned but not performed', 'time': 'None', 'outcome': 'Delivered vaginally and developed a fracture of the pubic rami', 'details': 'None'}], 'symptoms': [{'name of symptom': 'Inability to walk', 'intensity of symptom': 'Severe', 'location': 'Legs', 'time': 'Last 4 years', 'temporalisation': 'Chronic and worsening', 'behaviours affecting the symptom': 'Weakness to the point of being unable to turn over in bed', 'details': 'Associated with severe weakness and bone pain'}], 'medical examinations': [{'name': 'Nerve conduction study', 'result': 'Normal', 'details': 'No evidence of neurological disease'}], 'diagnosis tests': [{'test': 'None', 'severity': 'None', 'result': 'None', 'condition': 'Osteomalacia', 'time': 'None', 'details': 'Diagnosed by several orthopedic surgeons'}], 'treatments': [{'name': 'Calcium and vitamin D', 'related condition': 'Osteomalacia', 'dosage': 'None', 'time': 'None', 'frequency': 'None', 'duration': 'None', 'reason for taking': 'To treat osteomalacia', 'reaction to treatment': 'No improvement', 'details': 'Became totally bedridden'}, {'name': 'Calcitriol', 'related condition': 'Osteomalacia', 'dosage': '0.25 mg daily', 'time': 'None', 'frequency': 'Small doses', 'duration': 'Short periods of time', 'reason for taking': 'To treat osteomalacia', 'reaction to treatment': 'No improvement, eventually stopped all treatments', 'details': 'None'}], 'discharge': {'reason': 'None', 'referral': 'None', 'follow up': 'None', 'discharge summary': 'None'}}\"},\n",
       " {'idx': 26809,\n",
       "  'summary_eval': \"{'visit motivation': 'Presented with dyspnea and fever', 'admission': [{'reason': 'Dyspnea and fever, and to perform surgical repair of diaphragmatic defect', 'date': 'None', 'duration': '5 days postoperatively', 'care center details': 'None'}], 'patient information': {'age': '24-day-old', 'sex': 'Female', 'ethnicity': 'None', 'weight': 'None', 'height': 'None', 'family medical history': 'None', 'recent travels': 'None', 'socio economic context': 'None', 'occupation': 'None'}, 'patient medical history': {'physiological context': 'Normal Apgar score, no resuscitation required at birth', 'psychological context': 'None', 'vaccination history': 'None', 'allergies': 'None', 'exercise frequency': 'None', 'nutrition': 'None', 'sexual history': 'None', 'alcohol consumption': 'None', 'drug usage': 'None', 'smoking status': 'None'}, 'surgeries': [{'reason': 'Left-sided diaphragmatic defect with herniation of bowel and kidney', 'Type': 'Surgical repair of diaphragmatic defect', 'time': 'None', 'outcome': 'Uneventful recovery, successful reduction of herniated organs, and primary repair of defect', 'details': 'Procedure performed in left lateral decubitus position using a 5 mm camera port and two 3 mm working ports. Herniated organs were reduced and defect was repaired with interrupted nonabsorbable sutures. Chest drain was left in situ.'}], 'symptoms': [{'name of symptom': 'Dyspnea', 'intensity of symptom': 'None', 'location': 'None', 'time': 'None', 'temporalisation': 'None', 'behaviours affecting the symptom': 'None', 'details': 'Decreased air entry on the left side'}, {'name of symptom': 'Fever', 'intensity of symptom': 'None', 'location': 'None', 'time': 'None', 'temporalisation': 'None', 'behaviours affecting the symptom': 'None', 'details': 'None'}], 'medical examinations': [{'name': 'Physical examination', 'result': 'Decreased air entry on the left side', 'details': 'None'}, {'name': 'Chest radiograph', 'result': 'Consolidation of left lung, air-filled bowel loops inside the chest', 'details': 'None'}, {'name': 'Ultrasound examination', 'result': 'Intrathoracic ipsilateral kidney', 'details': 'None'}, {'name': 'Computed tomography (CT) of thorax', 'result': 'Confirmed left-sided diaphragmatic defect with large and small bowel, normal looking completely intrathoracic ipsilateral left kidney and adrenal gland', 'details': 'None'}], 'diagnosis tests': [{'test': 'Computed tomography (CT) of thorax', 'severity': 'None', 'result': 'Confirmed left-sided diaphragmatic defect with large and small bowel, normal looking completely intrathoracic ipsilateral left kidney and adrenal gland', 'condition': 'Diaphragmatic defect', 'time': 'None', 'details': 'None'}], 'treatments': [{'name': 'Surgical repair', 'related condition': 'Diaphragmatic defect', 'dosage': 'None', 'time': 'None', 'frequency': 'None', 'duration': 'None', 'reason for taking': 'To repair the diaphragmatic defect and reduce herniated organs', 'reaction to treatment': 'Uneventful recovery, successful outcome', 'details': 'Primary repair using interrupted nonabsorbable sutures without tension, chest drain left in situ'}], 'discharge': {'reason': 'Successful postoperative recovery', 'referral': 'None', 'follow up': 'Being followed up as an outpatient; renal ultrasound scans done postoperatively', 'discharge summary': 'Extubated within 24 hours, chest drain removed after 48 hours, discharged on day 5 postoperatively, recent renal ultrasound scan showed well-perfused kidneys with no evidence of hydronephrosis, hydroureter, or recurrence 3 years postoperatively'}}\"}]"
      ]
     },
     "execution_count": 4,
     "metadata": {},
     "output_type": "execute_result"
    }
   ],
   "execution_count": 4
  },
  {
   "metadata": {
    "ExecuteTime": {
     "end_time": "2024-04-13T15:28:04.417852Z",
     "start_time": "2024-04-13T15:28:04.379088Z"
    }
   },
   "cell_type": "code",
   "source": "translate_json(summary=eval(summary[4][\"summary_eval\"]), id=summary[0][\"idx\"])",
   "id": "78175df5a255b8fd",
   "outputs": [
    {
     "data": {
      "text/plain": [
       "['\\nPatient Information:',\n",
       " 'The patient is 24 years Female.',\n",
       " '\\nVisit Motivation:',\n",
       " 'The patient seeks medical attention due to Inability to walk and a long history of osteomalacia.',\n",
       " '\\nAdmission: No admission details provided.',\n",
       " '\\nMedical History:',\n",
       " 'The patient reported None.',\n",
       " '\\nSymptoms:',\n",
       " '  * Inability to walk in the Legs for the past Last 4 years. Associated with severe weakness and bone pain',\n",
       " '\\nTreatments:',\n",
       " '  * The patient underwent Calcium and vitamin D for Osteomalacia. No improvement.',\n",
       " '  * The patient underwent Calcitriol for Osteomalacia. No improvement, eventually stopped all treatments.',\n",
       " '\\nDischarge:',\n",
       " '  * The patient was discharged due to None.',\n",
       " '  * Referral to None recommended.',\n",
       " '  * Follow-up plan: None.',\n",
       " '  * Discharge summary: None.']"
      ]
     },
     "execution_count": 15,
     "metadata": {},
     "output_type": "execute_result"
    }
   ],
   "execution_count": 15
  },
  {
   "metadata": {
    "ExecuteTime": {
     "end_time": "2024-04-13T15:33:22.085350Z",
     "start_time": "2024-04-13T15:33:22.039059Z"
    }
   },
   "cell_type": "code",
   "source": "eval(summary[4][\"summary_eval\"]).keys()",
   "id": "239a840c32e11c4d",
   "outputs": [
    {
     "data": {
      "text/plain": [
       "dict_keys(['visit motivation', 'admission', 'patient information', 'patient medical history', 'surgeries', 'symptoms', 'medical examinations', 'diagnosis tests', 'treatments', 'discharge'])"
      ]
     },
     "execution_count": 17,
     "metadata": {},
     "output_type": "execute_result"
    }
   ],
   "execution_count": 17
  },
  {
   "metadata": {
    "ExecuteTime": {
     "end_time": "2024-04-13T15:13:05.549523Z",
     "start_time": "2024-04-13T15:13:05.542082Z"
    }
   },
   "cell_type": "code",
   "source": "summary[0][\"idx\"]",
   "id": "961397e9ab13e1f5",
   "outputs": [
    {
     "data": {
      "text/plain": [
       "155216"
      ]
     },
     "execution_count": 12,
     "metadata": {},
     "output_type": "execute_result"
    }
   ],
   "execution_count": 12
  },
  {
   "metadata": {
    "ExecuteTime": {
     "end_time": "2024-04-13T16:32:57.789705Z",
     "start_time": "2024-04-13T16:32:57.750572Z"
    }
   },
   "cell_type": "code",
   "source": [
    "section_headers_dict = {k:set() for k in ['admission',\n",
    " 'diagnosis tests',\n",
    " 'discharge',\n",
    " 'medical examinations',\n",
    " 'patient information',\n",
    " 'patient medical history',\n",
    " 'surgeries',\n",
    " 'symptoms',\n",
    " 'treatments',\n",
    " 'visit motivation']}\n",
    "\n",
    "section_headers_dict"
   ],
   "id": "ae591ad978b49bc",
   "outputs": [
    {
     "data": {
      "text/plain": [
       "{'admission': set(),\n",
       " 'diagnosis tests': set(),\n",
       " 'discharge': set(),\n",
       " 'medical examinations': set(),\n",
       " 'patient information': set(),\n",
       " 'patient medical history': set(),\n",
       " 'surgeries': set(),\n",
       " 'symptoms': set(),\n",
       " 'treatments': set(),\n",
       " 'visit motivation': set()}"
      ]
     },
     "execution_count": 99,
     "metadata": {},
     "output_type": "execute_result"
    }
   ],
   "execution_count": 99
  },
  {
   "metadata": {
    "ExecuteTime": {
     "end_time": "2024-04-13T16:33:06.055590Z",
     "start_time": "2024-04-13T16:32:58.682780Z"
    }
   },
   "cell_type": "code",
   "source": [
    "for summary in df[[\"idx\",\"summary_eval\"]].to_dict(orient=\"records\"):\n",
    "    idx=summary[\"idx\"]\n",
    "    eval_summary = eval(summary[\"summary_eval\"])\n",
    "    try:\n",
    "        for key in section_headers_dict.keys():\n",
    "            if key in eval_summary:\n",
    "                if isinstance(eval_summary[key], dict):\n",
    "                    section_headers_dict[key] = section_headers_dict[key].union(set(eval_summary[key].keys()))\n",
    "    \n",
    "                elif isinstance(eval_summary[key], list) and len(eval_summary[key])>1:    \n",
    "                    section_headers_dict[key] = section_headers_dict[key].union(set(eval_summary[key][0].keys()))\n",
    "\n",
    "    except Exception as e:\n",
    "        \n",
    "        print(e, idx)\n",
    "        print(key, eval_summary[key])"
   ],
   "id": "a5570b37cc363a42",
   "outputs": [
    {
     "name": "stdout",
     "output_type": "stream",
     "text": [
      "'str' object has no attribute 'keys' 77052\n",
      "visit motivation ['Treatment of a chronic obstructive pulmonary disease (COPD) exacerbation', 'Complaining of diffuse abdominal pain, increasing abdominal girth, and anterior wall bruising', 'Worsening dyspnea and management of atrial fibrillation with rapid ventricular rate and COPD exacerbation']\n"
     ]
    }
   ],
   "execution_count": 100
  },
  {
   "metadata": {
    "ExecuteTime": {
     "end_time": "2024-04-13T20:31:56.217262Z",
     "start_time": "2024-04-13T20:31:56.179904Z"
    }
   },
   "cell_type": "code",
   "source": "section_headers_dict",
   "id": "1ba985d41801b327",
   "outputs": [
    {
     "data": {
      "text/plain": [
       "{'admission': {'care center details', 'date', 'duration', 'reason'},\n",
       " 'diagnosis tests': {'condition',\n",
       "  'details',\n",
       "  'result',\n",
       "  'severity',\n",
       "  'test',\n",
       "  'time'},\n",
       " 'discharge': {'discharge summary', 'follow up', 'reason', 'referral'},\n",
       " 'medical examinations': {'details', 'name', 'result'},\n",
       " 'patient information': {'age',\n",
       "  'ethnicity',\n",
       "  'family medical history',\n",
       "  'height',\n",
       "  'occupation',\n",
       "  'recent travels',\n",
       "  'sex',\n",
       "  'socio economic context',\n",
       "  'weight'},\n",
       " 'patient medical history': {'alcohol consumption',\n",
       "  'allergies',\n",
       "  'drug usage',\n",
       "  'exercise frequency',\n",
       "  'nutrition',\n",
       "  'physiological context',\n",
       "  'psychological context',\n",
       "  'sexual history',\n",
       "  'smoking status',\n",
       "  'vaccination history'},\n",
       " 'surgeries': {'Type', 'details', 'outcome', 'reason', 'time'},\n",
       " 'symptoms': {'behaviours affecting the symptom',\n",
       "  'details',\n",
       "  'intensity of symptom',\n",
       "  'location',\n",
       "  'name of symptom',\n",
       "  'temporalisation',\n",
       "  'time'},\n",
       " 'treatments': {'details',\n",
       "  'dosage',\n",
       "  'duration',\n",
       "  'frequency',\n",
       "  'name',\n",
       "  'reaction to treatment',\n",
       "  'reason for taking',\n",
       "  'related condition',\n",
       "  'time'},\n",
       " 'visit motivation': set()}"
      ]
     },
     "execution_count": 111,
     "metadata": {},
     "output_type": "execute_result"
    }
   ],
   "execution_count": 111
  },
  {
   "metadata": {
    "ExecuteTime": {
     "end_time": "2024-04-13T20:31:45.453365Z",
     "start_time": "2024-04-13T20:31:45.399337Z"
    }
   },
   "cell_type": "code",
   "source": [
    "for key, pairs in section_headers_dict.items():\n",
    "    print(key, pairs)"
   ],
   "id": "b048a366500dbe45",
   "outputs": [
    {
     "name": "stdout",
     "output_type": "stream",
     "text": [
      "admission {'reason', 'date', 'care center details', 'duration'}\n",
      "diagnosis tests {'result', 'severity', 'condition', 'test', 'time', 'details'}\n",
      "discharge {'follow up', 'referral', 'reason', 'discharge summary'}\n",
      "medical examinations {'result', 'name', 'details'}\n",
      "patient information {'socio economic context', 'recent travels', 'age', 'sex', 'weight', 'height', 'occupation', 'ethnicity', 'family medical history'}\n",
      "patient medical history {'psychological context', 'drug usage', 'allergies', 'smoking status', 'nutrition', 'physiological context', 'sexual history', 'exercise frequency', 'alcohol consumption', 'vaccination history'}\n",
      "surgeries {'outcome', 'reason', 'Type', 'time', 'details'}\n",
      "symptoms {'name of symptom', 'intensity of symptom', 'behaviours affecting the symptom', 'location', 'time', 'temporalisation', 'details'}\n",
      "treatments {'reason for taking', 'reaction to treatment', 'name', 'related condition', 'duration', 'dosage', 'time', 'frequency', 'details'}\n",
      "visit motivation set()\n"
     ]
    }
   ],
   "execution_count": 110
  },
  {
   "metadata": {
    "ExecuteTime": {
     "end_time": "2024-04-13T16:36:02.178869Z",
     "start_time": "2024-04-13T16:36:02.138267Z"
    }
   },
   "cell_type": "code",
   "source": "print(df.iloc[5][\"summary_eval\"])",
   "id": "e06123221295de78",
   "outputs": [
    {
     "name": "stdout",
     "output_type": "stream",
     "text": [
      "{'visit motivation': 'Presented with dyspnea and fever', 'admission': [{'reason': 'Dyspnea and fever, and to perform surgical repair of diaphragmatic defect', 'date': 'None', 'duration': '5 days postoperatively', 'care center details': 'None'}], 'patient information': {'age': '24-day-old', 'sex': 'Female', 'ethnicity': 'None', 'weight': 'None', 'height': 'None', 'family medical history': 'None', 'recent travels': 'None', 'socio economic context': 'None', 'occupation': 'None'}, 'patient medical history': {'physiological context': 'Normal Apgar score, no resuscitation required at birth', 'psychological context': 'None', 'vaccination history': 'None', 'allergies': 'None', 'exercise frequency': 'None', 'nutrition': 'None', 'sexual history': 'None', 'alcohol consumption': 'None', 'drug usage': 'None', 'smoking status': 'None'}, 'surgeries': [{'reason': 'Left-sided diaphragmatic defect with herniation of bowel and kidney', 'Type': 'Surgical repair of diaphragmatic defect', 'time': 'None', 'outcome': 'Uneventful recovery, successful reduction of herniated organs, and primary repair of defect', 'details': 'Procedure performed in left lateral decubitus position using a 5 mm camera port and two 3 mm working ports. Herniated organs were reduced and defect was repaired with interrupted nonabsorbable sutures. Chest drain was left in situ.'}], 'symptoms': [{'name of symptom': 'Dyspnea', 'intensity of symptom': 'None', 'location': 'None', 'time': 'None', 'temporalisation': 'None', 'behaviours affecting the symptom': 'None', 'details': 'Decreased air entry on the left side'}, {'name of symptom': 'Fever', 'intensity of symptom': 'None', 'location': 'None', 'time': 'None', 'temporalisation': 'None', 'behaviours affecting the symptom': 'None', 'details': 'None'}], 'medical examinations': [{'name': 'Physical examination', 'result': 'Decreased air entry on the left side', 'details': 'None'}, {'name': 'Chest radiograph', 'result': 'Consolidation of left lung, air-filled bowel loops inside the chest', 'details': 'None'}, {'name': 'Ultrasound examination', 'result': 'Intrathoracic ipsilateral kidney', 'details': 'None'}, {'name': 'Computed tomography (CT) of thorax', 'result': 'Confirmed left-sided diaphragmatic defect with large and small bowel, normal looking completely intrathoracic ipsilateral left kidney and adrenal gland', 'details': 'None'}], 'diagnosis tests': [{'test': 'Computed tomography (CT) of thorax', 'severity': 'None', 'result': 'Confirmed left-sided diaphragmatic defect with large and small bowel, normal looking completely intrathoracic ipsilateral left kidney and adrenal gland', 'condition': 'Diaphragmatic defect', 'time': 'None', 'details': 'None'}], 'treatments': [{'name': 'Surgical repair', 'related condition': 'Diaphragmatic defect', 'dosage': 'None', 'time': 'None', 'frequency': 'None', 'duration': 'None', 'reason for taking': 'To repair the diaphragmatic defect and reduce herniated organs', 'reaction to treatment': 'Uneventful recovery, successful outcome', 'details': 'Primary repair using interrupted nonabsorbable sutures without tension, chest drain left in situ'}], 'discharge': {'reason': 'Successful postoperative recovery', 'referral': 'None', 'follow up': 'Being followed up as an outpatient; renal ultrasound scans done postoperatively', 'discharge summary': 'Extubated within 24 hours, chest drain removed after 48 hours, discharged on day 5 postoperatively, recent renal ultrasound scan showed well-perfused kidneys with no evidence of hydronephrosis, hydroureter, or recurrence 3 years postoperatively'}}\n"
     ]
    }
   ],
   "execution_count": 102
  },
  {
   "metadata": {
    "ExecuteTime": {
     "end_time": "2024-04-13T16:41:47.376765Z",
     "start_time": "2024-04-13T16:41:47.333760Z"
    }
   },
   "cell_type": "code",
   "source": "translate_admission(eval_summary)",
   "id": "851d6c3c3222c7fb",
   "outputs": [
    {
     "data": {
      "text/plain": [
       "['\\nAdmission:',\n",
       " 'The patient was admitted for Acute onset crushing substernal chest pressure and dyspnea with profuse sweating following 1-week-long febrile illness with malaise on None and stayed for None at Presented from an outlier hospital to our emergency department.']"
      ]
     },
     "execution_count": 105,
     "metadata": {},
     "output_type": "execute_result"
    }
   ],
   "execution_count": 105
  },
  {
   "metadata": {
    "ExecuteTime": {
     "end_time": "2024-04-13T16:43:25.674658Z",
     "start_time": "2024-04-13T16:43:25.629570Z"
    }
   },
   "cell_type": "code",
   "source": "eval('None')",
   "id": "9579994e953985c9",
   "outputs": [],
   "execution_count": 109
  },
  {
   "metadata": {
    "ExecuteTime": {
     "end_time": "2024-04-13T20:57:52.470653Z",
     "start_time": "2024-04-13T20:57:52.427004Z"
    }
   },
   "cell_type": "code",
   "source": "df.iloc[0]",
   "id": "71f07740a04018a5",
   "outputs": [
    {
     "data": {
      "text/plain": [
       "idx                                                        155216\n",
       "note            A a sixteen year-old girl, presented to our Ou...\n",
       "full_note       A a sixteen year-old girl, presented to our Ou...\n",
       "conversation    Doctor: Good morning, what brings you to the O...\n",
       "summary_eval    {'visit motivation': 'Discomfort in the neck a...\n",
       "Name: 0, dtype: object"
      ]
     },
     "execution_count": 113,
     "metadata": {},
     "output_type": "execute_result"
    }
   ],
   "execution_count": 113
  },
  {
   "metadata": {},
   "cell_type": "code",
   "outputs": [],
   "execution_count": null,
   "source": [
    "{\n",
    "    \"admission\": {\n",
    "        \"reason\": \"complaints of discomfort in the neck and lower back, restriction of body movements\",\n",
    "        \"date\": \"four months ago\",\n",
    "        \"care center details\": \"Outpatient department\",\n",
    "        \"duration\": \"two years and seven months\"\n",
    "    },\n",
    "    \"diagnosis tests\": [\n",
    "        {\n",
    "            \"result\": \"negative\",\n",
    "            \"severity\": \"not mentioned\",\n",
    "            \"condition\": \"dystonia\",\n",
    "            \"test\": \"MRI scan of the brain, serum and urine copper levels, slit lamp microscopy for the KF ring, complete blood count, TLC, DLC, and USG of the abdomen, thyroid function tests\",\n",
    "            \"time\": \"during the course of the illness\",\n",
    "            \"details\": \"did not reveal any abnormalities\"\n",
    "        }\n",
    "    ],\n",
    "    \"discharge\": {\n",
    "        \"follow up\": \"none mentioned\",\n",
    "        \"referral\": \"none mentioned\",\n",
    "        \"reason\": \"mood symptoms remitted\",\n",
    "        \"discharge summary\": \"psychotropic medications were stopped, patient put on tablet tetrabenazine\"\n",
    "    },\n",
    "    \"medical examinations\": [\n",
    "        {\n",
    "            \"result\": \"improved slightly\",\n",
    "            \"name\": \"abnormal contraction of the neck muscles and the abnormal positioning of the head\",\n",
    "            \"details\": \"improved slightly, but movements failed to disappear completely\"\n",
    "        }\n",
    "    ],\n",
    "    \"patient information\": {\n",
    "        \"socio economic context\": \"not mentioned\",\n",
    "        \"recent travels\": \"not mentioned\",\n",
    "        \"age\": \"sixteen years old\",\n",
    "        \"sex\": \"female\",\n",
    "        \"weight\": \"not mentioned\",\n",
    "        \"height\": \"not mentioned\",\n",
    "        \"occupation\": \"not mentioned\",\n",
    "        \"ethnicity\": \"not mentioned\",\n",
    "        \"family medical history\": \"not mentioned\"\n",
    "    },\n",
    "    \"patient medical history\": {\n",
    "        \"psychological context\": \"bipolar affective disorder\",\n",
    "        \"drug usage\": \"olanzapine, trihexyphenidyl, propranolol, phenargan, sodium valproate, escitalopram, lithium, eltroxin, tetrabenazine\",\n",
    "        \"allergies\": \"not mentioned\",\n",
    "        \"smoking status\": \"not mentioned\",\n",
    "        \"nutrition\": \"not mentioned\",\n",
    "        \"physiological context\": \"hypothyroidism\",\n",
    "        \"sexual history\": \"not mentioned\",\n",
    "        \"exercise frequency\": \"not mentioned\",\n",
    "        \"alcohol consumption\": \"not mentioned\",\n",
    "        \"vaccination history\": \"not mentioned\"\n",
    "    },\n",
    "    \"surgeries\": [],\n",
    "    \"symptoms\": [\n",
    "        {\n",
    "            \"name of symptom\": \"discomfort in the neck and lower back, restriction of body movements\",\n",
    "            \"intensity of symptom\": \"varying intensity over the first three years of illness\",\n",
    "            \"behaviours affecting the symptom\": \"maintaining specific postures, needing assistance in standing and walking, requiring help with daily chores\",\n",
    "            \"location\": \"neck and lumbar region\",\n",
    "            \"time\": \"past four months\",\n",
    "            \"temporalisation\": \"associated with the introduction of olanzapine tablets\",\n",
    "            \"details\": \"sustained and abnormal contraction of the neck muscles, sideways bending of the back, abnormal positioning of the head\"\n",
    "        }\n",
    "    ],\n",
    "    \"treatments\": [\n",
    "        {\n",
    "            \"reason for taking\": \"control exacerbated mental illness\",\n",
    "            \"reaction to treatment\": \"sustained abnormal contraction of the neck muscles\",\n",
    "            \"name\": \"olanzapine\",\n",
    "            \"related condition\": \"bipolar affective disorder\",\n",
    "            \"duration\": \"seven years\",\n",
    "            \"dosage\": \"2.5–10 mg per day\",\n",
    "            \"time\": \"over the past seven years\",\n",
    "            \"frequency\": \"daily\",\n",
    "            \"details\": \"aggravated abnormal movement and posturing of the neck\"\n",
    "        },\n",
    "        {\n",
    "            \"reason for taking\": \"stabilization of mood\",\n",
    "            \"reaction to treatment\": \"amenorrhea\",\n",
    "            \"name\": \"sodium valproate\",\n",
    "            \"related condition\": \"mood stabilization\",\n",
    "            \"duration\": \"around two years\",\n",
    "            \"dosage\": \"1000 mg per day\",\n",
    "            \"time\": \"during this period\",\n",
    "            \"frequency\": \"daily\",\n",
    "            \"details\": \"shifted to tablet lithium 450 mg per day due to valproate-induced menstrual disturbance\"\n",
    "        },\n",
    "        {\n",
    "            \"reason for taking\": \"response to tetrabenazine\",\n",
    "            \"reaction to treatment\": \"improvement in abnormal movements of the muscles of the neck and back, reduced pain and discomfort in the back and neck\",\n",
    "            \"name\": \"tetrabenazine\",\n",
    "            \"related condition\": \"dystonia\",\n",
    "            \"duration\": \"current treatment\",\n",
    "            \"dosage\": \"built up to 75 mg per day\",\n",
    "            \"time\": \"current treatment\",\n",
    "            \"frequency\": \"in divided doses\",\n",
    "            \"details\": \"response shown with improvement in abnormal movements\"\n",
    "        }\n",
    "    ],\n",
    "    \"visit motivation\": \"treatment of dystonia caused by olanzapine\"\n",
    "}"
   ],
   "id": "df802ca455542713"
  },
  {
   "metadata": {},
   "cell_type": "code",
   "outputs": [],
   "execution_count": null,
   "source": "",
   "id": "c25c67b1103c0311"
  }
 ],
 "metadata": {
  "kernelspec": {
   "display_name": "Python 3",
   "language": "python",
   "name": "python3"
  },
  "language_info": {
   "codemirror_mode": {
    "name": "ipython",
    "version": 2
   },
   "file_extension": ".py",
   "mimetype": "text/x-python",
   "name": "python",
   "nbconvert_exporter": "python",
   "pygments_lexer": "ipython2",
   "version": "2.7.6"
  }
 },
 "nbformat": 4,
 "nbformat_minor": 5
}
