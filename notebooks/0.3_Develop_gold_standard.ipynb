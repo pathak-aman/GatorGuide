{
 "cells": [
  {
   "cell_type": "code",
   "id": "initial_id",
   "metadata": {
    "collapsed": true,
    "ExecuteTime": {
     "end_time": "2024-04-15T14:01:16.071174Z",
     "start_time": "2024-04-15T14:01:15.567474Z"
    }
   },
   "source": [
    "import pandas as pd\n",
    "import random\n",
    "import sys\n",
    "import numpy as np\n",
    "\n",
    "sys.path.append(\"../scripts\")\n",
    "from scripts.prompt_gen import generate_prompt\n",
    "from scripts.translate_summary_json import translate_summary\n",
    "\n",
    "%load_ext autoreload\n",
    "%autoreload 2"
   ],
   "outputs": [],
   "execution_count": 1
  },
  {
   "metadata": {
    "ExecuteTime": {
     "end_time": "2024-04-15T14:01:21.008984Z",
     "start_time": "2024-04-15T14:01:16.074219Z"
    }
   },
   "cell_type": "code",
   "source": [
    "df = pd.read_csv(\"../outputs/cleaned_augmented_clinical_notes.csv\")\n",
    "q_df = pd.read_csv(\"../outputs/Questionnaire - Questions.csv\")"
   ],
   "id": "9a64b393c8ad45de",
   "outputs": [],
   "execution_count": 2
  },
  {
   "metadata": {
    "ExecuteTime": {
     "end_time": "2024-04-15T14:13:27.030778Z",
     "start_time": "2024-04-15T14:13:26.849521Z"
    }
   },
   "cell_type": "code",
   "source": [
    "def generate_record_dict ():\n",
    "    record_dict = {\n",
    "        \"idx\" : 0,\n",
    "        \"full_note\" : \"\",\n",
    "        \"summary\" : \"\",\n",
    "        \"questions\" : \"\",\n",
    "        \"section_1\" : \"\",\n",
    "        \"section_2\" : \"\",\n",
    "        \"section_1_ground_truth_summary\" : \"\",\n",
    "        \"section_2_ground_truth_summary\" : \"\",\n",
    "        \"ground_truth_summary\" : \"\",\n",
    "        # \"gpt3.5_preds\" : \"\",\n",
    "        # \"gpt3.5_BERT_SCORER_agg\" : \"\",\n",
    "        # \"gpt3.5_BERT_SCORER_section_1\" : \"\",\n",
    "        # \"gpt3.5_BERT_SCORER_section_2\" : \"\",\n",
    "        # \"llama2_preds\" : \"\",\n",
    "        # \"llama2_BERT_SCORER_agg_section_1\" : \"\",\n",
    "        # \"llama2_BERT_SCORER_agg_section_2\" : \"\",\n",
    "        # \"llama2_BERT_SCORER_agg\" : \"\",\n",
    "        \"prompt\" : \"\",\n",
    "    }\n",
    "    return record_dict\n",
    "    \n",
    "\n",
    "record_list = []\n",
    "for i in range(100):\n",
    "    prompt_details = generate_prompt(df, q_df, return_prompt_string= False)\n",
    "    \n",
    "   \n",
    "    record_dict = generate_record_dict()\n",
    "    record_dict[\"idx\"] += prompt_details[\"idx\"]\n",
    "    record_dict[\"prompt\"] = prompt_details[\"prompt\"]\n",
    "    record_dict[\"full_note\"] = prompt_details[\"full_note\"]\n",
    "    record_dict[\"summary\"] = prompt_details[\"summary\"]\n",
    "    record_dict[\"questions\"] = prompt_details[\"questions\"]\n",
    "    record_dict[\"section_1\"] = prompt_details[\"sections\"][0]\n",
    "    record_dict[\"section_2\"] = prompt_details[\"sections\"][1]\n",
    "\n",
    "    record_list.append(record_dict)"
   ],
   "id": "c0080a47c19bc116",
   "outputs": [],
   "execution_count": 24
  },
  {
   "metadata": {
    "ExecuteTime": {
     "end_time": "2024-04-15T14:13:27.914296Z",
     "start_time": "2024-04-15T14:13:27.845066Z"
    }
   },
   "cell_type": "code",
   "source": [
    "for record_dict in record_list:\n",
    "    translated_summary, summary_dict = translate_summary(record_dict[\"summary\"])\n",
    "    record_dict[\"ground_truth_summary\"] = translated_summary\n",
    "    record_dict[\"section_1_ground_truth_summary\"] = \"\".join(summary_dict[record_dict[\"section_1\"]])\n",
    "    record_dict[\"section_2_ground_truth_summary\"] = \"\".join(summary_dict[record_dict[\"section_2\"]])\n"
   ],
   "id": "8c3892b551ef49e6",
   "outputs": [],
   "execution_count": 25
  },
  {
   "metadata": {
    "ExecuteTime": {
     "end_time": "2024-04-15T14:12:55.199860Z",
     "start_time": "2024-04-15T14:12:55.163164Z"
    }
   },
   "cell_type": "code",
   "source": "df_records = pd.DataFrame(record_list)",
   "id": "d4374b9a0377a45e",
   "outputs": [],
   "execution_count": 23
  },
  {
   "metadata": {
    "ExecuteTime": {
     "end_time": "2024-04-15T14:15:23.080198Z",
     "start_time": "2024-04-15T14:15:23.016869Z"
    }
   },
   "cell_type": "code",
   "source": "df_records.to_csv(\"../outputs/eval.csv\", index=False)",
   "id": "740b785a28d66a27",
   "outputs": [],
   "execution_count": 26
  },
  {
   "metadata": {},
   "cell_type": "code",
   "outputs": [],
   "execution_count": null,
   "source": "",
   "id": "4fdb7007974ba697"
  }
 ],
 "metadata": {
  "kernelspec": {
   "display_name": "Python 3",
   "language": "python",
   "name": "python3"
  },
  "language_info": {
   "codemirror_mode": {
    "name": "ipython",
    "version": 2
   },
   "file_extension": ".py",
   "mimetype": "text/x-python",
   "name": "python",
   "nbconvert_exporter": "python",
   "pygments_lexer": "ipython2",
   "version": "2.7.6"
  }
 },
 "nbformat": 4,
 "nbformat_minor": 5
}
